{
 "cells": [
  {
   "cell_type": "markdown",
   "metadata": {},
   "source": [
    "# Sentence Similarity"
   ]
  },
  {
   "cell_type": "code",
   "execution_count": 1,
   "metadata": {},
   "outputs": [
    {
     "name": "stderr",
     "output_type": "stream",
     "text": [
      "Using TensorFlow backend.\n"
     ]
    }
   ],
   "source": [
    "from keras.preprocessing.text import Tokenizer\n",
    "import numpy as np"
   ]
  },
  {
   "cell_type": "code",
   "execution_count": 2,
   "metadata": {},
   "outputs": [
    {
     "data": {
      "text/plain": [
       "['good morning',\n",
       " 'how are you doing',\n",
       " 'the weather is awesome today',\n",
       " 'samsung',\n",
       " 'good afternoon',\n",
       " 'baseball is played in the USA',\n",
       " 'there is a thunderstorm',\n",
       " 'are you doing good',\n",
       " 'The polar regions are melting',\n",
       " 'apple',\n",
       " 'nokia',\n",
       " 'cricket is a fun game',\n",
       " 'the climate change is a problem']"
      ]
     },
     "execution_count": 2,
     "metadata": {},
     "output_type": "execute_result"
    }
   ],
   "source": [
    "'''take out the data from the file and put t in a list '''\n",
    "input_text=[]\n",
    "for line in open('list_of_sentences','r'):\n",
    "    input_text.append(line.rstrip())\n",
    "    \n",
    "input_text"
   ]
  },
  {
   "cell_type": "code",
   "execution_count": null,
   "metadata": {},
   "outputs": [],
   "source": [
    "    "
   ]
  },
  {
   "cell_type": "code",
   "execution_count": 3,
   "metadata": {},
   "outputs": [
    {
     "data": {
      "text/plain": [
       "{'is': 1,\n",
       " 'the': 2,\n",
       " 'good': 3,\n",
       " 'are': 4,\n",
       " 'a': 5,\n",
       " 'you': 6,\n",
       " 'doing': 7,\n",
       " 'morning': 8,\n",
       " 'how': 9,\n",
       " 'weather': 10,\n",
       " 'awesome': 11,\n",
       " 'today': 12,\n",
       " 'samsung': 13,\n",
       " 'afternoon': 14,\n",
       " 'baseball': 15,\n",
       " 'played': 16,\n",
       " 'in': 17,\n",
       " 'usa': 18,\n",
       " 'there': 19,\n",
       " 'thunderstorm': 20,\n",
       " 'polar': 21,\n",
       " 'regions': 22,\n",
       " 'melting': 23,\n",
       " 'apple': 24,\n",
       " 'nokia': 25,\n",
       " 'cricket': 26,\n",
       " 'fun': 27,\n",
       " 'game': 28,\n",
       " 'climate': 29,\n",
       " 'change': 30,\n",
       " 'problem': 31}"
      ]
     },
     "execution_count": 3,
     "metadata": {},
     "output_type": "execute_result"
    }
   ],
   "source": [
    "'''Tokenize the list of sentences'''\n",
    "# tokenize the inputs\n",
    "tokenizer_inputs = Tokenizer()\n",
    "tokenizer_inputs.fit_on_texts(input_text)\n",
    "#input_sequences = tokenizer_inputs.texts_to_sequences(input_texts)\n",
    "\n",
    "\n",
    "# get the word to index mapping for input language\n",
    "word2idx_inputs = tokenizer_inputs.word_index\n",
    "num_words=len(word2idx_inputs)\n",
    "num_words\n",
    "word2idx_inputs"
   ]
  },
  {
   "cell_type": "code",
   "execution_count": 4,
   "metadata": {},
   "outputs": [
    {
     "name": "stdout",
     "output_type": "stream",
     "text": [
      "Loading word vectors...\n",
      "Found 400000 word vectors.\n",
      "Filling pre-trained embeddings...\n"
     ]
    }
   ],
   "source": [
    "'''used glove pretrained word embedding'''\n",
    "# store all the pre-trained word vectors\n",
    "EMBEDDING_DIM = 300\n",
    "print('Loading word vectors...')\n",
    "word2vec = {}\n",
    "with open('glove.6B.%sd.txt' % EMBEDDING_DIM) as f:\n",
    "    for line in f:\n",
    "        values = line.split()\n",
    "        word = values[0]\n",
    "        vec = np.asarray(values[1:], dtype='float32')\n",
    "        word2vec[word] = vec\n",
    "print('Found %s word vectors.' % len(word2vec))\n",
    "\n",
    "\n",
    "\n",
    "\n",
    "# prepare embedding matrix\n",
    "print('Filling pre-trained embeddings...')\n",
    "embedding_matrix = np.zeros((num_words, EMBEDDING_DIM))\n",
    "for word, i in word2idx_inputs.items():\n",
    "    embedding_vector = word2vec.get(word)\n",
    "    if embedding_vector is not None:\n",
    "      # words not found in embedding index will be all zeros.\n",
    "      embedding_matrix[i-1] = embedding_vector "
   ]
  },
  {
   "cell_type": "code",
   "execution_count": 6,
   "metadata": {},
   "outputs": [
    {
     "data": {
      "text/plain": [
       "31"
      ]
     },
     "execution_count": 6,
     "metadata": {},
     "output_type": "execute_result"
    }
   ],
   "source": [
    "len(embedding_matrix)"
   ]
  },
  {
   "cell_type": "code",
   "execution_count": 22,
   "metadata": {},
   "outputs": [
    {
     "name": "stdout",
     "output_type": "stream",
     "text": [
      "good morning\n",
      "2\n",
      "how are you doing\n",
      "4\n",
      "the weather is awesome today\n",
      "5\n",
      "samsung\n",
      "1\n",
      "good afternoon\n",
      "2\n",
      "baseball is played in the USA\n",
      "6\n",
      "there is a thunderstorm\n",
      "4\n",
      "are you doing good\n",
      "4\n",
      "The polar regions are melting\n",
      "5\n",
      "apple\n",
      "1\n",
      "nokia\n",
      "1\n",
      "cricket is a fun game\n",
      "5\n",
      "the climate change is a problem\n",
      "6\n"
     ]
    }
   ],
   "source": [
    "'''calculate the average of embedding for each sentence'''\n",
    "sentence_embedding={}\n",
    "for sentence in  input_text:\n",
    "    overall_value_of_sentence = np.zeros((1,300))\n",
    "    no_of_words=0\n",
    "    for word in sentence.lower().split():\n",
    "        overall_value_of_sentence +=embedding_matrix[word2idx_inputs[word]-1]\n",
    "        no_of_words +=1  \n",
    "    print(sentence)\n",
    "    print(no_of_words)\n",
    "    sentence_embedding[sentence]=overall_value_of_sentence/no_of_words         "
   ]
  },
  {
   "cell_type": "code",
   "execution_count": null,
   "metadata": {},
   "outputs": [],
   "source": []
  },
  {
   "cell_type": "code",
   "execution_count": 29,
   "metadata": {},
   "outputs": [],
   "source": [
    "'''helps in calculating the cosine similarity between pair of vectors'''\n",
    "from sklearn.metrics.pairwise import cosine_similarity\n"
   ]
  },
  {
   "cell_type": "code",
   "execution_count": 39,
   "metadata": {},
   "outputs": [],
   "source": [
    "'''take out the cosine similarity for each sentence with all the other sentence in our corpus'''\n",
    "dic_of_similarity={}\n",
    "\n",
    "for i in range(len(input_text)):\n",
    "    similarity = []\n",
    "    embedding1 = sentence_embedding[input_text[i]]\n",
    "    for j in range(len(input_text)):\n",
    "        embedding2 = sentence_embedding[input_text[j]]\n",
    "        sim = cosine_similarity(embedding1, embedding2)[0][0]\n",
    "        similarity.append({input_text[j]:sim})\n",
    "    dic_of_similarity[input_text[i]]=similarity\n",
    "        "
   ]
  },
  {
   "cell_type": "code",
   "execution_count": 77,
   "metadata": {},
   "outputs": [],
   "source": [
    "'''take out the list of similar senteces which I assumed on maching more than equal to 73%'''\n",
    "overall_group = []\n",
    "for i in range(len(input_text)):\n",
    "    group_text=[]\n",
    "    for j in range(len(input_text)):\n",
    "        val=dic_of_similarity[input_text[i]][j]\n",
    "        if val[input_text[j]]*100>=73.0:\n",
    "            for key in val.keys():\n",
    "                group_text.append(key)\n",
    "    overall_group.append(group_text)"
   ]
  },
  {
   "cell_type": "code",
   "execution_count": 87,
   "metadata": {},
   "outputs": [
    {
     "data": {
      "text/plain": [
       "[['good morning', 'good afternoon'],\n",
       " ['how are you doing', 'are you doing good'],\n",
       " ['the weather is awesome today',\n",
       "  'there is a thunderstorm',\n",
       "  'the climate change is a problem'],\n",
       " ['samsung'],\n",
       " ['good morning', 'good afternoon'],\n",
       " ['baseball is played in the USA', 'cricket is a fun game'],\n",
       " ['the weather is awesome today',\n",
       "  'there is a thunderstorm',\n",
       "  'the climate change is a problem'],\n",
       " ['how are you doing', 'are you doing good'],\n",
       " ['The polar regions are melting'],\n",
       " ['apple'],\n",
       " ['nokia'],\n",
       " ['baseball is played in the USA', 'cricket is a fun game'],\n",
       " ['the weather is awesome today',\n",
       "  'there is a thunderstorm',\n",
       "  'the climate change is a problem']]"
      ]
     },
     "execution_count": 87,
     "metadata": {},
     "output_type": "execute_result"
    }
   ],
   "source": [
    "overall_group"
   ]
  },
  {
   "cell_type": "code",
   "execution_count": 95,
   "metadata": {},
   "outputs": [],
   "source": [
    "'''take out the unique list of similar senteces and keep it in final_result'''\n",
    "final_result=[]\n",
    "for entry in overall_group:\n",
    "    if entry not in final_result:\n",
    "        final_result.append(entry)\n",
    "\n"
   ]
  },
  {
   "cell_type": "code",
   "execution_count": 96,
   "metadata": {},
   "outputs": [
    {
     "data": {
      "text/plain": [
       "[['good morning', 'good afternoon'],\n",
       " ['how are you doing', 'are you doing good'],\n",
       " ['the weather is awesome today',\n",
       "  'there is a thunderstorm',\n",
       "  'the climate change is a problem'],\n",
       " ['samsung'],\n",
       " ['baseball is played in the USA', 'cricket is a fun game'],\n",
       " ['The polar regions are melting'],\n",
       " ['apple'],\n",
       " ['nokia']]"
      ]
     },
     "execution_count": 96,
     "metadata": {},
     "output_type": "execute_result"
    }
   ],
   "source": [
    "'''return the final result'''\n",
    "final_result"
   ]
  },
  {
   "cell_type": "code",
   "execution_count": null,
   "metadata": {},
   "outputs": [],
   "source": []
  },
  {
   "cell_type": "code",
   "execution_count": null,
   "metadata": {},
   "outputs": [],
   "source": []
  },
  {
   "cell_type": "code",
   "execution_count": null,
   "metadata": {},
   "outputs": [],
   "source": []
  },
  {
   "cell_type": "code",
   "execution_count": null,
   "metadata": {},
   "outputs": [],
   "source": []
  }
 ],
 "metadata": {
  "kernelspec": {
   "display_name": "Python 3",
   "language": "python",
   "name": "python3"
  },
  "language_info": {
   "codemirror_mode": {
    "name": "ipython",
    "version": 3
   },
   "file_extension": ".py",
   "mimetype": "text/x-python",
   "name": "python",
   "nbconvert_exporter": "python",
   "pygments_lexer": "ipython3",
   "version": "3.7.3"
  }
 },
 "nbformat": 4,
 "nbformat_minor": 2
}
